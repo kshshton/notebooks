{
 "cells": [
  {
   "cell_type": "code",
   "execution_count": 146,
   "metadata": {
    "vscode": {
     "languageId": "plaintext"
    }
   },
   "outputs": [],
   "source": [
    "TARGET_URL = \"https://example.com/api/sessions?limit=8767\"\n",
    "BASE_URL = \"https://example.com/api/sessions?\"\n",
    "TARGET_NUM = 8676"
   ]
  },
  {
   "cell_type": "code",
   "execution_count": 147,
   "metadata": {},
   "outputs": [],
   "source": [
    "import requests"
   ]
  },
  {
   "cell_type": "code",
   "execution_count": 26,
   "metadata": {},
   "outputs": [],
   "source": [
    "def valid_url(url, **kwargs):\n",
    "    url = str(url) + \"&\".join([f\"{key}={value}\" for key, value in kwargs.items()])\n",
    "    response = requests.get(url)\n",
    "    return response.ok"
   ]
  },
  {
   "cell_type": "code",
   "execution_count": 142,
   "metadata": {},
   "outputs": [],
   "source": [
    "def valid_url_prototype(limit):\n",
    "    if limit == TARGET_NUM:\n",
    "        return limit\n",
    "    return limit < TARGET_NUM"
   ]
  },
  {
   "cell_type": "code",
   "execution_count": 165,
   "metadata": {},
   "outputs": [
    {
     "name": "stdout",
     "output_type": "stream",
     "text": [
      "1: 10000 - 5000\n",
      "2: 5000 + 1000\n",
      "3: 6000 + 1000\n",
      "4: 7000 + 1000\n",
      "5: 8000 + 1000\n",
      "6: 9000 - 500\n",
      "7: 8500 + 100\n",
      "8: 8600 + 100\n",
      "9: 8700 - 50\n",
      "10: 8650 + 10\n",
      "11: 8660 + 10\n",
      "12: 8670 + 10\n",
      "13: 8680 - 5\n",
      "14: 8675 + 1\n",
      "15: 8676 + 1\n",
      "Found limit: 8676 in 16 attempts.\n"
     ]
    }
   ],
   "source": [
    "def find_limit(max_value=10_000):\n",
    "    attempts = 1\n",
    "    adjustments = [1, 5, 10, 50, 100, 500, 1000, 5000][::-1]\n",
    "\n",
    "    for index in range(len(adjustments)):\n",
    "        if valid_url_prototype(max_value):\n",
    "            while valid_url_prototype(max_value):    \n",
    "                print(f\"{attempts}: {max_value} + {adjustments[index]}\")\n",
    "                max_value += adjustments[index]\n",
    "                attempts += 1\n",
    "        else:\n",
    "            while not valid_url_prototype(max_value):\n",
    "                print(f\"{attempts}: {max_value} - {adjustments[index]}\")\n",
    "                max_value -= adjustments[index]\n",
    "                attempts += 1\n",
    "    else:\n",
    "        return attempts, max_value - 1\n",
    "\n",
    "\n",
    "# Example usage\n",
    "found_attempts, found_limit = find_limit()\n",
    "print(f\"Found limit: {found_limit} in {found_attempts} attempts.\")\n"
   ]
  }
 ],
 "metadata": {
  "kernelspec": {
   "display_name": "Python 3 (ipykernel)",
   "language": "python",
   "name": "python3"
  },
  "language_info": {
   "codemirror_mode": {
    "name": "ipython",
    "version": 3
   },
   "file_extension": ".py",
   "mimetype": "text/x-python",
   "name": "python",
   "nbconvert_exporter": "python",
   "pygments_lexer": "ipython3",
   "version": "3.12.0"
  }
 },
 "nbformat": 4,
 "nbformat_minor": 4
}
