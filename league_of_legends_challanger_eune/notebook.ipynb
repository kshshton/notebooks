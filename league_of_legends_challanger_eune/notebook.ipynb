{
 "cells": [
  {
   "cell_type": "markdown",
   "id": "75a90ccf-1cee-4a8a-b5bb-d1b90d23c3ee",
   "metadata": {},
   "source": [
    "## Scraping"
   ]
  },
  {
   "cell_type": "code",
   "execution_count": 2,
   "id": "8a2e8c63-6ee8-4d18-ac6f-870880c603c3",
   "metadata": {},
   "outputs": [],
   "source": [
    "import requests\n",
    "from bs4 import BeautifulSoup"
   ]
  },
  {
   "cell_type": "code",
   "execution_count": 3,
   "id": "a16d1fdf-644c-45f0-b7c8-da0822c548fa",
   "metadata": {},
   "outputs": [],
   "source": [
    "URL = 'https://www.op.gg/leaderboards/tier'"
   ]
  },
  {
   "cell_type": "code",
   "execution_count": 4,
   "id": "7ef066d9-90ad-49ec-b61c-34b065d856dc",
   "metadata": {},
   "outputs": [],
   "source": [
    "response = requests.get(URL)"
   ]
  },
  {
   "cell_type": "code",
   "execution_count": 5,
   "id": "608030f2-4c77-48a3-8d47-315b0fc68861",
   "metadata": {},
   "outputs": [
    {
     "data": {
      "text/plain": [
       "'<!DOCTYPE html><html lang=\"en\" class=\"mode--deskto'"
      ]
     },
     "execution_count": 5,
     "metadata": {},
     "output_type": "execute_result"
    }
   ],
   "source": [
    "response.text[:50]"
   ]
  },
  {
   "cell_type": "code",
   "execution_count": 6,
   "id": "09000a07-9f1a-4bc2-a63c-03ee78fc4f41",
   "metadata": {},
   "outputs": [],
   "source": [
    "soup = BeautifulSoup(response.text)"
   ]
  },
  {
   "cell_type": "code",
   "execution_count": null,
   "id": "ef3bfd80-e55e-4008-823a-7f1292e23196",
   "metadata": {},
   "outputs": [],
   "source": [
    "sorted(soup.__dir__())"
   ]
  },
  {
   "cell_type": "code",
   "execution_count": null,
   "id": "f223f29c-2567-4887-8d64-27a52090689e",
   "metadata": {},
   "outputs": [],
   "source": [
    "# <script id=\"__NEXT_DATA__\" type=\"application/json\">"
   ]
  },
  {
   "cell_type": "code",
   "execution_count": 7,
   "id": "8c8dcb54-2dca-491f-87bb-ee21e9eb1bca",
   "metadata": {},
   "outputs": [],
   "source": [
    "import json\n",
    "import pyperclip"
   ]
  },
  {
   "cell_type": "code",
   "execution_count": 8,
   "id": "225beff5-47f6-44f7-aec4-117dc4cae9a1",
   "metadata": {},
   "outputs": [],
   "source": [
    "data = json.loads(soup.find('script', {'id': \"__NEXT_DATA__\"}).string)"
   ]
  },
  {
   "cell_type": "code",
   "execution_count": 9,
   "id": "962fa9c9-b4ef-4728-999d-b260e72e1f8e",
   "metadata": {},
   "outputs": [],
   "source": [
    "pyperclip.copy(data)\n",
    "\n",
    "# paste to https://jsoneditoronline.org/"
   ]
  },
  {
   "cell_type": "code",
   "execution_count": 9,
   "id": "46bcdf0e-4e94-4d37-a1c4-4a9b02c4f809",
   "metadata": {},
   "outputs": [],
   "source": [
    "data = data['props']['pageProps']"
   ]
  },
  {
   "cell_type": "code",
   "execution_count": 12,
   "id": "efd01a02-a1c8-479c-a6b8-64b5043812d0",
   "metadata": {},
   "outputs": [],
   "source": [
    "champions_mapping = {meta['id']: meta['name'] for meta in data['championById'].values()}"
   ]
  },
  {
   "cell_type": "code",
   "execution_count": 66,
   "id": "09bb9c01-2f31-48a1-9155-b724f3d19085",
   "metadata": {},
   "outputs": [
    {
     "data": {
      "text/plain": [
       "[{'rank': 1, 'lp': 1740, 'champion': 'Syndra', 'games': 86, 'winratio': 69},\n",
       " {'rank': 1,\n",
       "  'lp': 1740,\n",
       "  'champion': 'Cassiopeia',\n",
       "  'games': 30,\n",
       "  'winratio': 63},\n",
       " {'rank': 1, 'lp': 1740, 'champion': 'Xerath', 'games': 21, 'winratio': 62},\n",
       " {'rank': 2, 'lp': 1689, 'champion': 'Riven', 'games': 146, 'winratio': 68},\n",
       " {'rank': 2, 'lp': 1689, 'champion': 'Camille', 'games': 26, 'winratio': 69}]"
      ]
     },
     "execution_count": 66,
     "metadata": {},
     "output_type": "execute_result"
    }
   ],
   "source": [
    "leaderboard = []\n",
    "for meta in data['data']:\n",
    "    for champion in meta['summoner']['most_champions']['champion_stats']:\n",
    "        leaderboard.append({\n",
    "            'rank': meta['rank'],\n",
    "            'lp': next(mode['tier_info']['lp'] \n",
    "                       for mode in meta['summoner']['league_stats'] \n",
    "                       if mode['game_type'] == 'SOLORANKED' and mode['tier_info']['tier'] == 'CHALLENGER'\n",
    "                      ),\n",
    "            'champion': champions_mapping.get(champion['id']),\n",
    "            'games': champion['play'],\n",
    "            'winratio': round((champion['win'] / champion['play']) * 100),\n",
    "        })\n",
    "leaderboard[:5]"
   ]
  },
  {
   "cell_type": "code",
   "execution_count": 13,
   "id": "949e7c4c-28c9-48c9-9c90-9a9ae6f1d7a7",
   "metadata": {},
   "outputs": [],
   "source": [
    "import pandas as pd"
   ]
  },
  {
   "cell_type": "code",
   "execution_count": 67,
   "id": "7987394d-887c-4580-bc79-fc5f855d344a",
   "metadata": {},
   "outputs": [],
   "source": [
    "df = pd.DataFrame(leaderboard)"
   ]
  },
  {
   "cell_type": "code",
   "execution_count": 68,
   "id": "25db3474-8881-44bb-8840-5b5266b34099",
   "metadata": {},
   "outputs": [
    {
     "data": {
      "text/plain": [
       "300"
      ]
     },
     "execution_count": 68,
     "metadata": {},
     "output_type": "execute_result"
    }
   ],
   "source": [
    "len(df)"
   ]
  },
  {
   "cell_type": "code",
   "execution_count": 29,
   "id": "35d5739e-48ba-47a7-bc0e-1236bdbd0bca",
   "metadata": {
    "scrolled": true
   },
   "outputs": [
    {
     "data": {
      "text/html": [
       "<div>\n",
       "<style scoped>\n",
       "    .dataframe tbody tr th:only-of-type {\n",
       "        vertical-align: middle;\n",
       "    }\n",
       "\n",
       "    .dataframe tbody tr th {\n",
       "        vertical-align: top;\n",
       "    }\n",
       "\n",
       "    .dataframe thead th {\n",
       "        text-align: right;\n",
       "    }\n",
       "</style>\n",
       "<table border=\"1\" class=\"dataframe\">\n",
       "  <thead>\n",
       "    <tr style=\"text-align: right;\">\n",
       "      <th></th>\n",
       "      <th>rank</th>\n",
       "      <th>lp</th>\n",
       "      <th>champion</th>\n",
       "      <th>games</th>\n",
       "      <th>winratio</th>\n",
       "    </tr>\n",
       "  </thead>\n",
       "  <tbody>\n",
       "    <tr>\n",
       "      <th>0</th>\n",
       "      <td>1</td>\n",
       "      <td>1740</td>\n",
       "      <td>Syndra</td>\n",
       "      <td>86</td>\n",
       "      <td>69</td>\n",
       "    </tr>\n",
       "    <tr>\n",
       "      <th>1</th>\n",
       "      <td>1</td>\n",
       "      <td>1740</td>\n",
       "      <td>Cassiopeia</td>\n",
       "      <td>30</td>\n",
       "      <td>63</td>\n",
       "    </tr>\n",
       "    <tr>\n",
       "      <th>2</th>\n",
       "      <td>1</td>\n",
       "      <td>1740</td>\n",
       "      <td>Xerath</td>\n",
       "      <td>21</td>\n",
       "      <td>62</td>\n",
       "    </tr>\n",
       "    <tr>\n",
       "      <th>3</th>\n",
       "      <td>2</td>\n",
       "      <td>1689</td>\n",
       "      <td>Riven</td>\n",
       "      <td>146</td>\n",
       "      <td>68</td>\n",
       "    </tr>\n",
       "    <tr>\n",
       "      <th>4</th>\n",
       "      <td>2</td>\n",
       "      <td>1689</td>\n",
       "      <td>Camille</td>\n",
       "      <td>26</td>\n",
       "      <td>69</td>\n",
       "    </tr>\n",
       "  </tbody>\n",
       "</table>\n",
       "</div>"
      ],
      "text/plain": [
       "   rank    lp    champion  games  winratio\n",
       "0     1  1740      Syndra     86        69\n",
       "1     1  1740  Cassiopeia     30        63\n",
       "2     1  1740      Xerath     21        62\n",
       "3     2  1689       Riven    146        68\n",
       "4     2  1689     Camille     26        69"
      ]
     },
     "execution_count": 29,
     "metadata": {},
     "output_type": "execute_result"
    }
   ],
   "source": [
    "df.head()"
   ]
  },
  {
   "cell_type": "markdown",
   "id": "05609727-7aad-4927-8dc6-482e7bd8f937",
   "metadata": {},
   "source": [
    "## Analysis"
   ]
  },
  {
   "cell_type": "code",
   "execution_count": 17,
   "id": "0d1074fb-bae2-42a4-9632-865e34964ce2",
   "metadata": {},
   "outputs": [],
   "source": [
    "from sqlalchemy import Table, MetaData, create_engine"
   ]
  },
  {
   "cell_type": "code",
   "execution_count": 18,
   "id": "2f96c6a7-c3af-44e7-af47-18980aabe681",
   "metadata": {},
   "outputs": [],
   "source": [
    "engine = create_engine('sqlite:///eune.db')"
   ]
  },
  {
   "cell_type": "code",
   "execution_count": 30,
   "id": "75883025-d0db-4ec0-b7d9-169175c45153",
   "metadata": {},
   "outputs": [
    {
     "data": {
      "text/plain": [
       "300"
      ]
     },
     "execution_count": 30,
     "metadata": {},
     "output_type": "execute_result"
    }
   ],
   "source": [
    "df.to_sql('eune_leaderboard', con=engine, if_exists='replace', index=False)"
   ]
  },
  {
   "cell_type": "code",
   "execution_count": 31,
   "id": "32e5445d-bbca-4430-a8a0-0431ac146e55",
   "metadata": {},
   "outputs": [
    {
     "data": {
      "text/html": [
       "<div>\n",
       "<style scoped>\n",
       "    .dataframe tbody tr th:only-of-type {\n",
       "        vertical-align: middle;\n",
       "    }\n",
       "\n",
       "    .dataframe tbody tr th {\n",
       "        vertical-align: top;\n",
       "    }\n",
       "\n",
       "    .dataframe thead th {\n",
       "        text-align: right;\n",
       "    }\n",
       "</style>\n",
       "<table border=\"1\" class=\"dataframe\">\n",
       "  <thead>\n",
       "    <tr style=\"text-align: right;\">\n",
       "      <th></th>\n",
       "      <th>rank</th>\n",
       "      <th>lp</th>\n",
       "      <th>champion</th>\n",
       "      <th>games</th>\n",
       "      <th>winratio</th>\n",
       "    </tr>\n",
       "  </thead>\n",
       "  <tbody>\n",
       "    <tr>\n",
       "      <th>0</th>\n",
       "      <td>1</td>\n",
       "      <td>1740</td>\n",
       "      <td>Syndra</td>\n",
       "      <td>86</td>\n",
       "      <td>69</td>\n",
       "    </tr>\n",
       "    <tr>\n",
       "      <th>1</th>\n",
       "      <td>1</td>\n",
       "      <td>1740</td>\n",
       "      <td>Cassiopeia</td>\n",
       "      <td>30</td>\n",
       "      <td>63</td>\n",
       "    </tr>\n",
       "    <tr>\n",
       "      <th>2</th>\n",
       "      <td>1</td>\n",
       "      <td>1740</td>\n",
       "      <td>Xerath</td>\n",
       "      <td>21</td>\n",
       "      <td>62</td>\n",
       "    </tr>\n",
       "    <tr>\n",
       "      <th>3</th>\n",
       "      <td>2</td>\n",
       "      <td>1689</td>\n",
       "      <td>Riven</td>\n",
       "      <td>146</td>\n",
       "      <td>68</td>\n",
       "    </tr>\n",
       "    <tr>\n",
       "      <th>4</th>\n",
       "      <td>2</td>\n",
       "      <td>1689</td>\n",
       "      <td>Camille</td>\n",
       "      <td>26</td>\n",
       "      <td>69</td>\n",
       "    </tr>\n",
       "  </tbody>\n",
       "</table>\n",
       "</div>"
      ],
      "text/plain": [
       "   rank    lp    champion  games  winratio\n",
       "0     1  1740      Syndra     86        69\n",
       "1     1  1740  Cassiopeia     30        63\n",
       "2     1  1740      Xerath     21        62\n",
       "3     2  1689       Riven    146        68\n",
       "4     2  1689     Camille     26        69"
      ]
     },
     "execution_count": 31,
     "metadata": {},
     "output_type": "execute_result"
    }
   ],
   "source": [
    "pd.read_sql_query(\"SELECT * FROM eune_leaderboard LIMIT 5\", con=engine)"
   ]
  },
  {
   "cell_type": "code",
   "execution_count": 21,
   "id": "f4164f75-0ac1-4540-a0d3-db2411b05905",
   "metadata": {},
   "outputs": [],
   "source": [
    "def sql(query: str) -> pd.DataFrame:\n",
    "    return pd.read_sql_query(query, con=engine)"
   ]
  },
  {
   "cell_type": "code",
   "execution_count": 22,
   "id": "3db64e42-3280-4fc7-97a7-b982350233cb",
   "metadata": {},
   "outputs": [],
   "source": [
    "def drop_table(table_name: str) -> None:\n",
    "    Table(table_name, MetaData(), autoload_with=engine).drop(engine)"
   ]
  },
  {
   "cell_type": "code",
   "execution_count": 32,
   "id": "b121d5df-2429-4c8e-a0a0-5f0123d369fb",
   "metadata": {},
   "outputs": [
    {
     "data": {
      "text/plain": [
       "300"
      ]
     },
     "execution_count": 32,
     "metadata": {},
     "output_type": "execute_result"
    }
   ],
   "source": [
    "sql(\n",
    "    \"\"\"    \n",
    "    SELECT \n",
    "        *,\n",
    "        COUNT(rank) OVER (PARTITION BY champion) AS players_cnt\n",
    "    FROM eune_leaderboard el\n",
    "    \"\"\"\n",
    ").to_sql('eune_leaderboard', con=engine, if_exists='replace', index=False)"
   ]
  },
  {
   "cell_type": "code",
   "execution_count": 33,
   "id": "53d51173-064d-4576-acd5-c28e671b35df",
   "metadata": {},
   "outputs": [
    {
     "data": {
      "text/html": [
       "<div>\n",
       "<style scoped>\n",
       "    .dataframe tbody tr th:only-of-type {\n",
       "        vertical-align: middle;\n",
       "    }\n",
       "\n",
       "    .dataframe tbody tr th {\n",
       "        vertical-align: top;\n",
       "    }\n",
       "\n",
       "    .dataframe thead th {\n",
       "        text-align: right;\n",
       "    }\n",
       "</style>\n",
       "<table border=\"1\" class=\"dataframe\">\n",
       "  <thead>\n",
       "    <tr style=\"text-align: right;\">\n",
       "      <th></th>\n",
       "      <th>rank</th>\n",
       "      <th>lp</th>\n",
       "      <th>champion</th>\n",
       "      <th>games</th>\n",
       "      <th>winratio</th>\n",
       "      <th>players_cnt</th>\n",
       "    </tr>\n",
       "  </thead>\n",
       "  <tbody>\n",
       "    <tr>\n",
       "      <th>0</th>\n",
       "      <td>15</td>\n",
       "      <td>1187</td>\n",
       "      <td>Aatrox</td>\n",
       "      <td>18</td>\n",
       "      <td>61</td>\n",
       "      <td>3</td>\n",
       "    </tr>\n",
       "  </tbody>\n",
       "</table>\n",
       "</div>"
      ],
      "text/plain": [
       "   rank    lp champion  games  winratio  players_cnt\n",
       "0    15  1187   Aatrox     18        61            3"
      ]
     },
     "execution_count": 33,
     "metadata": {},
     "output_type": "execute_result"
    }
   ],
   "source": [
    "sql(\n",
    "    \"\"\"\n",
    "    SELECT *\n",
    "    FROM eune_leaderboard\n",
    "    LIMIT 1\n",
    "    \"\"\"\n",
    ")"
   ]
  },
  {
   "cell_type": "markdown",
   "id": "e5ca264c-5f4d-4016-a92c-e24c86564aae",
   "metadata": {},
   "source": [
    "### The most played champion in challanger"
   ]
  },
  {
   "cell_type": "code",
   "execution_count": 64,
   "id": "917cb854-d8ba-499e-b5a6-8b4950b76c42",
   "metadata": {},
   "outputs": [
    {
     "data": {
      "text/html": [
       "<div>\n",
       "<style scoped>\n",
       "    .dataframe tbody tr th:only-of-type {\n",
       "        vertical-align: middle;\n",
       "    }\n",
       "\n",
       "    .dataframe tbody tr th {\n",
       "        vertical-align: top;\n",
       "    }\n",
       "\n",
       "    .dataframe thead th {\n",
       "        text-align: right;\n",
       "    }\n",
       "</style>\n",
       "<table border=\"1\" class=\"dataframe\">\n",
       "  <thead>\n",
       "    <tr style=\"text-align: right;\">\n",
       "      <th></th>\n",
       "      <th>champion</th>\n",
       "      <th>players_cnt</th>\n",
       "    </tr>\n",
       "  </thead>\n",
       "  <tbody>\n",
       "    <tr>\n",
       "      <th>0</th>\n",
       "      <td>Viego</td>\n",
       "      <td>9</td>\n",
       "    </tr>\n",
       "    <tr>\n",
       "      <th>1</th>\n",
       "      <td>Ashe</td>\n",
       "      <td>8</td>\n",
       "    </tr>\n",
       "    <tr>\n",
       "      <th>2</th>\n",
       "      <td>Sylas</td>\n",
       "      <td>8</td>\n",
       "    </tr>\n",
       "    <tr>\n",
       "      <th>3</th>\n",
       "      <td>Yone</td>\n",
       "      <td>8</td>\n",
       "    </tr>\n",
       "    <tr>\n",
       "      <th>4</th>\n",
       "      <td>Caitlyn</td>\n",
       "      <td>7</td>\n",
       "    </tr>\n",
       "    <tr>\n",
       "      <th>5</th>\n",
       "      <td>Draven</td>\n",
       "      <td>7</td>\n",
       "    </tr>\n",
       "    <tr>\n",
       "      <th>6</th>\n",
       "      <td>Ezreal</td>\n",
       "      <td>7</td>\n",
       "    </tr>\n",
       "    <tr>\n",
       "      <th>7</th>\n",
       "      <td>Graves</td>\n",
       "      <td>7</td>\n",
       "    </tr>\n",
       "    <tr>\n",
       "      <th>8</th>\n",
       "      <td>Hwei</td>\n",
       "      <td>7</td>\n",
       "    </tr>\n",
       "    <tr>\n",
       "      <th>9</th>\n",
       "      <td>Jhin</td>\n",
       "      <td>7</td>\n",
       "    </tr>\n",
       "    <tr>\n",
       "      <th>10</th>\n",
       "      <td>Jarvan IV</td>\n",
       "      <td>6</td>\n",
       "    </tr>\n",
       "    <tr>\n",
       "      <th>11</th>\n",
       "      <td>Syndra</td>\n",
       "      <td>6</td>\n",
       "    </tr>\n",
       "    <tr>\n",
       "      <th>12</th>\n",
       "      <td>Corki</td>\n",
       "      <td>5</td>\n",
       "    </tr>\n",
       "    <tr>\n",
       "      <th>13</th>\n",
       "      <td>Katarina</td>\n",
       "      <td>5</td>\n",
       "    </tr>\n",
       "  </tbody>\n",
       "</table>\n",
       "</div>"
      ],
      "text/plain": [
       "     champion  players_cnt\n",
       "0       Viego            9\n",
       "1        Ashe            8\n",
       "2       Sylas            8\n",
       "3        Yone            8\n",
       "4     Caitlyn            7\n",
       "5      Draven            7\n",
       "6      Ezreal            7\n",
       "7      Graves            7\n",
       "8        Hwei            7\n",
       "9        Jhin            7\n",
       "10  Jarvan IV            6\n",
       "11     Syndra            6\n",
       "12      Corki            5\n",
       "13   Katarina            5"
      ]
     },
     "execution_count": 64,
     "metadata": {},
     "output_type": "execute_result"
    }
   ],
   "source": [
    "sql(\n",
    "    \"\"\"\n",
    "    WITH ranked_players_cnt AS (\n",
    "        SELECT DISTINCT \n",
    "            champion, \n",
    "            players_cnt,\n",
    "            DENSE_RANK() OVER (ORDER BY players_cnt DESC) AS rank\n",
    "        FROM eune_leaderboard\n",
    "    )\n",
    "    SELECT champion, players_cnt\n",
    "    FROM ranked_players_cnt\n",
    "    WHERE rank <= 5\n",
    "    \"\"\"\n",
    ")"
   ]
  },
  {
   "cell_type": "markdown",
   "id": "66918696-8cca-4c5b-af47-2017d8157a2d",
   "metadata": {},
   "source": [
    "### The best mains on EUNE"
   ]
  },
  {
   "cell_type": "code",
   "execution_count": 50,
   "id": "03bc341d-ea2a-4e2d-81b9-57d3692390e5",
   "metadata": {},
   "outputs": [
    {
     "data": {
      "text/html": [
       "<div>\n",
       "<style scoped>\n",
       "    .dataframe tbody tr th:only-of-type {\n",
       "        vertical-align: middle;\n",
       "    }\n",
       "\n",
       "    .dataframe tbody tr th {\n",
       "        vertical-align: top;\n",
       "    }\n",
       "\n",
       "    .dataframe thead th {\n",
       "        text-align: right;\n",
       "    }\n",
       "</style>\n",
       "<table border=\"1\" class=\"dataframe\">\n",
       "  <thead>\n",
       "    <tr style=\"text-align: right;\">\n",
       "      <th></th>\n",
       "      <th>rank</th>\n",
       "      <th>champion</th>\n",
       "      <th>games</th>\n",
       "      <th>winratio</th>\n",
       "    </tr>\n",
       "  </thead>\n",
       "  <tbody>\n",
       "    <tr>\n",
       "      <th>0</th>\n",
       "      <td>14</td>\n",
       "      <td>Kha'Zix</td>\n",
       "      <td>107</td>\n",
       "      <td>75</td>\n",
       "    </tr>\n",
       "    <tr>\n",
       "      <th>1</th>\n",
       "      <td>29</td>\n",
       "      <td>Olaf</td>\n",
       "      <td>113</td>\n",
       "      <td>71</td>\n",
       "    </tr>\n",
       "    <tr>\n",
       "      <th>2</th>\n",
       "      <td>51</td>\n",
       "      <td>Lulu</td>\n",
       "      <td>63</td>\n",
       "      <td>79</td>\n",
       "    </tr>\n",
       "    <tr>\n",
       "      <th>3</th>\n",
       "      <td>97</td>\n",
       "      <td>Gwen</td>\n",
       "      <td>64</td>\n",
       "      <td>77</td>\n",
       "    </tr>\n",
       "    <tr>\n",
       "      <th>4</th>\n",
       "      <td>13</td>\n",
       "      <td>Volibear</td>\n",
       "      <td>61</td>\n",
       "      <td>79</td>\n",
       "    </tr>\n",
       "    <tr>\n",
       "      <th>5</th>\n",
       "      <td>12</td>\n",
       "      <td>Kayle</td>\n",
       "      <td>53</td>\n",
       "      <td>72</td>\n",
       "    </tr>\n",
       "  </tbody>\n",
       "</table>\n",
       "</div>"
      ],
      "text/plain": [
       "   rank  champion  games  winratio\n",
       "0    14   Kha'Zix    107        75\n",
       "1    29      Olaf    113        71\n",
       "2    51      Lulu     63        79\n",
       "3    97      Gwen     64        77\n",
       "4    13  Volibear     61        79\n",
       "5    12     Kayle     53        72"
      ]
     },
     "execution_count": 50,
     "metadata": {},
     "output_type": "execute_result"
    }
   ],
   "source": [
    "sql(\n",
    "    \"\"\"\n",
    "    SELECT DISTINCT rank, champion, games, winratio\n",
    "    FROM eune_leaderboard\n",
    "    WHERE winratio > 70\n",
    "        AND games > 50\n",
    "    ORDER BY games * winratio DESC\n",
    "    \"\"\"\n",
    ")"
   ]
  }
 ],
 "metadata": {
  "kernelspec": {
   "display_name": "Python 3 (ipykernel)",
   "language": "python",
   "name": "python3"
  },
  "language_info": {
   "codemirror_mode": {
    "name": "ipython",
    "version": 3
   },
   "file_extension": ".py",
   "mimetype": "text/x-python",
   "name": "python",
   "nbconvert_exporter": "python",
   "pygments_lexer": "ipython3",
   "version": "3.12.0"
  }
 },
 "nbformat": 4,
 "nbformat_minor": 5
}
