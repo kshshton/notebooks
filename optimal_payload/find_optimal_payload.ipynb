{
 "cells": [
  {
   "cell_type": "code",
   "execution_count": 136,
   "metadata": {
    "vscode": {
     "languageId": "plaintext"
    }
   },
   "outputs": [],
   "source": [
    "BASE_URL = \"http://127.0.0.1:5000/numbers?\"\n",
    "TARGET_NUM = 5093 "
   ]
  },
  {
   "cell_type": "code",
   "execution_count": 88,
   "metadata": {},
   "outputs": [],
   "source": [
    "def valid_url(url, **kwargs):\n",
    "    import requests\n",
    "    \n",
    "    url = str(url) + \"&\".join([f\"{key}={value}\" for key, value in kwargs.items()])\n",
    "    response = requests.get(url)\n",
    "    return response.ok"
   ]
  },
  {
   "cell_type": "code",
   "execution_count": 89,
   "metadata": {},
   "outputs": [],
   "source": [
    "def valid_url_test(limit):\n",
    "    return limit <= TARGET_NUM"
   ]
  },
  {
   "cell_type": "code",
   "execution_count": 101,
   "metadata": {},
   "outputs": [],
   "source": [
    "def generate_adjustments(n):\n",
    "    n = int('1' + (len(str(n)) - 1) * '0')\n",
    "    l = []\n",
    "    while (n > 1):\n",
    "        n //= 2    \n",
    "        l.append(n)\n",
    "        n //= 5\n",
    "        l.append(n)\n",
    "    return l"
   ]
  },
  {
   "cell_type": "code",
   "execution_count": 122,
   "metadata": {},
   "outputs": [
    {
     "data": {
      "text/plain": [
       "[5000, 1000, 500, 100, 50, 10, 5, 1]"
      ]
     },
     "execution_count": 122,
     "metadata": {},
     "output_type": "execute_result"
    }
   ],
   "source": [
    "generate_adjustments(10_000)"
   ]
  },
  {
   "cell_type": "code",
   "execution_count": 130,
   "metadata": {
    "scrolled": true
   },
   "outputs": [
    {
     "name": "stdout",
     "output_type": "stream",
     "text": [
      "1: 10000 - 5000\n",
      "2: 5000 + 1000\n",
      "3: 6000 - 500\n",
      "4: 5500 - 500\n",
      "5: 5000 + 100\n",
      "6: 5100 - 50\n",
      "7: 5050 + 10\n",
      "8: 5060 + 10\n",
      "9: 5070 + 10\n",
      "10: 5080 + 10\n",
      "11: 5090 + 10\n",
      "12: 5100 - 5\n",
      "13: 5095 - 5\n",
      "14: 5090 + 1\n",
      "15: 5091 + 1\n",
      "16: 5092 + 1\n",
      "17: 5093 + 1\n",
      "Found limit: 5093 in 17 attempts.\n"
     ]
    }
   ],
   "source": [
    "def find_limit(max_value=10_000):\n",
    "    attempts = 1\n",
    "    adjustments = generate_adjustments(max_value)\n",
    "\n",
    "    for index in range(len(adjustments)):\n",
    "        if valid_url_test(max_value):\n",
    "            while valid_url_test(max_value):    \n",
    "                print(f\"{attempts}: {max_value} + {adjustments[index]}\")\n",
    "                max_value += adjustments[index]\n",
    "                attempts += 1\n",
    "        else:\n",
    "            while not valid_url_test(max_value):\n",
    "                print(f\"{attempts}: {max_value} - {adjustments[index]}\")\n",
    "                max_value -= adjustments[index]\n",
    "                attempts += 1\n",
    "    else:\n",
    "        return attempts - 1, max_value - 1\n",
    "\n",
    "\n",
    "# Example usage\n",
    "found_attempts, found_limit = find_limit()\n",
    "print(f\"Found limit: {found_limit} in {found_attempts} attempts.\")\n"
   ]
  },
  {
   "cell_type": "code",
   "execution_count": 135,
   "metadata": {},
   "outputs": [
    {
     "name": "stdout",
     "output_type": "stream",
     "text": [
      "1: 10000 - 5000\n",
      "2: 5000 + 1000\n",
      "3: 6000 - 500\n",
      "4: 5000 + 100\n",
      "5: 5100 - 50\n",
      "6: 5050 + 10\n",
      "7: 5060 + 10\n",
      "8: 5070 + 10\n",
      "9: 5080 + 10\n",
      "10: 5100 - 5\n",
      "11: 5090 + 1\n",
      "12: 5091 + 1\n",
      "13: 5092 + 1\n",
      "14: 5093 + 1\n",
      "Found limit: 5093 in 14 attempts.\n"
     ]
    }
   ],
   "source": [
    "def find_limit(max_value=10_000):\n",
    "    import time\n",
    "    \n",
    "    n = max_value\n",
    "    attempts = 1\n",
    "    adjustments = generate_adjustments(n)\n",
    "    valid_limit = lambda limit: valid_url(BASE_URL, limit=limit)\n",
    "    s = set()\n",
    "    slen = None\n",
    "    placeholder = None\n",
    "\n",
    "    for index in range(len(adjustments)):\n",
    "        if valid_limit(n):\n",
    "            while valid_limit(n):  \n",
    "                time.sleep(2)                \n",
    "                slen = len(s)\n",
    "                placeholder = n\n",
    "                n += adjustments[index]\n",
    "                s.add(n)\n",
    "                if slen == len(s): continue\n",
    "                print(f\"{attempts}: {placeholder} + {adjustments[index]}\")\n",
    "                attempts += 1\n",
    "        else:\n",
    "            while not valid_limit(n):\n",
    "                time.sleep(2)                \n",
    "                slen = len(s)\n",
    "                placeholder = n\n",
    "                n -= adjustments[index]\n",
    "                s.add(n)\n",
    "                if slen == len(s): continue\n",
    "                print(f\"{attempts}: {placeholder} - {adjustments[index]}\")\n",
    "                attempts += 1\n",
    "                \n",
    "    return attempts - 1, n - 1\n",
    "\n",
    "\n",
    "# Example usage\n",
    "found_attempts, found_limit = find_limit()\n",
    "print(f\"Found limit: {found_limit} in {found_attempts} attempts.\")\n"
   ]
  },
  {
   "cell_type": "markdown",
   "metadata": {},
   "source": [
    "### Server:\n",
    "\n",
    "![img](./img/result.png)"
   ]
  },
  {
   "cell_type": "code",
   "execution_count": 133,
   "metadata": {},
   "outputs": [
    {
     "name": "stdout",
     "output_type": "stream",
     "text": [
      "2: Decreasing to 9000\n",
      "3: Decreasing to 8000\n",
      "4: Decreasing to 7000\n",
      "5: Decreasing to 6000\n",
      "6: Decreasing to 5500\n",
      "7: Decreasing to 5400\n",
      "8: Decreasing to 5300\n",
      "9: Decreasing to 5200\n",
      "10: Decreasing to 5100\n",
      "11: Decreasing to 5095\n",
      "12: Decreasing to 5094\n",
      "Found limit: 5094 in 12 attempts.\n"
     ]
    }
   ],
   "source": [
    "# ChatGPT solution:\n",
    "\n",
    "import requests\n",
    "import time\n",
    "\n",
    "def valid_url(url, **kwargs):\n",
    "    url = str(url) + \"&\".join([f\"{key}={value}\" for key, value in kwargs.items()])\n",
    "    response = requests.get(url)\n",
    "    return response.ok\n",
    "\n",
    "def generate_adjustments(n):\n",
    "    n = int('1' + (len(str(n)) - 1) * '0')\n",
    "    adjustments = []\n",
    "    while n > 1:\n",
    "        n //= 2\n",
    "        adjustments.append(n)\n",
    "        n //= 5\n",
    "        adjustments.append(n)\n",
    "    return adjustments\n",
    "\n",
    "def find_limit(max_value=10_000):\n",
    "    n = max_value\n",
    "    attempts = 1\n",
    "    adjustments = generate_adjustments(n)\n",
    "    valid_limit = lambda limit: valid_url(BASE_URL, limit=limit)\n",
    "    s = set()  # This is unused but can be left if tracking unique values was intended.\n",
    "    \n",
    "    # Track current state\n",
    "    increase = True  # Start with increasing adjustment\n",
    "    for adjustment in adjustments:\n",
    "        if valid_limit(n):\n",
    "            while valid_limit(n + adjustment):\n",
    "                time.sleep(2)  # Sleep after making the adjustment\n",
    "                n += adjustment\n",
    "                attempts += 1\n",
    "                print(f\"{attempts}: Increasing to {n}\")\n",
    "        else:\n",
    "            while not valid_limit(n - adjustment):\n",
    "                time.sleep(2)\n",
    "                n -= adjustment\n",
    "                attempts += 1\n",
    "                print(f\"{attempts}: Decreasing to {n}\")\n",
    "    \n",
    "    return attempts, n\n",
    "\n",
    "found_attempts, found_limit = find_limit()\n",
    "print(f\"Found limit: {found_limit} in {found_attempts} attempts.\")\n"
   ]
  }
 ],
 "metadata": {
  "kernelspec": {
   "display_name": "Python 3 (ipykernel)",
   "language": "python",
   "name": "python3"
  },
  "language_info": {
   "codemirror_mode": {
    "name": "ipython",
    "version": 3
   },
   "file_extension": ".py",
   "mimetype": "text/x-python",
   "name": "python",
   "nbconvert_exporter": "python",
   "pygments_lexer": "ipython3",
   "version": "3.12.0"
  }
 },
 "nbformat": 4,
 "nbformat_minor": 4
}
